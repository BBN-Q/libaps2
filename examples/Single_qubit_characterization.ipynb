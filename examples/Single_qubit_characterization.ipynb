{
 "cells": [
  {
   "cell_type": "markdown",
   "metadata": {},
   "source": [
    "### Auspex + QGL, qubit characterization example"
   ]
  },
  {
   "cell_type": "code",
   "execution_count": null,
   "metadata": {
    "scrolled": true
   },
   "outputs": [],
   "source": [
    "from auspex.exp_factory import QubitExpFactory, quince\n",
    "import auspex.pulse_calibration as cal\n",
    "from auspex.single_shot_fidelity import SingleShotFidelityExperiment\n",
    "from QGL import *\n",
    "import os\n",
    "from auspex.instruments.utils import pulse_marker\n",
    "seq_path = 'C:\\\\Users\\\\qlab_user\\\\Documents\\\\awg'\n",
    "ChannelLibrary()\n",
    "output_notebook()\n",
    "\n",
    "from auspex.analysis.io import load_from_HDF5\n",
    "from auspex.analysis.fits import *"
   ]
  },
  {
   "cell_type": "code",
   "execution_count": null,
   "metadata": {},
   "outputs": [],
   "source": [
    "# Define qubits\n",
    "q1 = QubitFactory('q1')\n",
    "#q2 = QubitFactory(\"q2\")\n",
    "#q3 = QubitFactory(\"q3\")\n",
    "#q4 = QubitFactory(\"q4\")\n",
    "#q5 = QubitFactory(\"q5\")\n",
    "q = q1"
   ]
  },
  {
   "cell_type": "markdown",
   "metadata": {},
   "source": [
    "Measurement settings are found in the following file and the included instruments and filters files"
   ]
  },
  {
   "cell_type": "code",
   "execution_count": null,
   "metadata": {},
   "outputs": [],
   "source": [
    "config.meas_file"
   ]
  },
  {
   "cell_type": "markdown",
   "metadata": {},
   "source": [
    "Relevant config. directories are also included:\n",
    "* AWGDir: path of APS sequences\n",
    "* KernelDir: path of saved kernels for Integrated X6 streams (see filters)\n",
    "* LogDir: path of experiment and calibration log files\n",
    "* PulsePrimitiveLibrary: standard/all90 for definition of a pi pulse as X(q) / [X90(q), X90(q)]"
   ]
  },
  {
   "cell_type": "markdown",
   "metadata": {},
   "source": [
    "Filters can also be displayed and set using Quince:"
   ]
  },
  {
   "cell_type": "code",
   "execution_count": null,
   "metadata": {},
   "outputs": [],
   "source": [
    "quince()"
   ]
  },
  {
   "cell_type": "markdown",
   "metadata": {},
   "source": [
    "### Pulsed spectroscopy\n",
    "A single sequence with a control pulse followed by a measurement pulse. When performing cavity spectroscopy, the control pulse can be disabled with the ``specOn`` option set to false. Typically, once the low power cavity is found, the qubit is probed with a long (>3 us) saturating pulse (``specOn = True``). During this stage APS2 on-board modulation is typically set to zero."
   ]
  },
  {
   "cell_type": "code",
   "execution_count": null,
   "metadata": {},
   "outputs": [],
   "source": [
    "fstart = 6.2e9\n",
    "fstop = 6.5e9\n",
    "nsteps = 51\n",
    "\n",
    "# compiling a sequence in QGL produces the metafile with the info on sequences, APS, axes, and number of segments.\n",
    "#meta_file = PulsedSpec(q,specOn=False, showPlot=True)\n",
    "\n",
    "# you can then create an Auspex experiment based on such metafile\n",
    "#exp = QubitExpFactory.create(meta_file, expname = 'Spec', cw_mode = True)"
   ]
  },
  {
   "cell_type": "markdown",
   "metadata": {},
   "source": [
    "#### Cavity Spec"
   ]
  },
  {
   "cell_type": "code",
   "execution_count": null,
   "metadata": {},
   "outputs": [],
   "source": [
    "exp = QubitExpFactory.create(PulsedSpec(q1,specOn=False, showPlot=True), expname = 'Spec', cw_mode = True)\n",
    "\n",
    "# add sweep to determine cavity location\n",
    "exp.add_qubit_sweep(\"q1 measure frequency\", np.linspace(fstart, fstop, nsteps))\n",
    "\n",
    "# run sweep\n",
    "exp.run_sweeps()\n",
    "\n",
    "# once the cavity location has been precisely determined, one can sweep the APS amplitude \n",
    "# this will create a 2D sweep, where the amplitude being swept is the channel scale amplitude in instruments.yml\n",
    "\n",
    "# exp = QubitExpFactory.create(PulsedSpec(q1,specOn=False, showPlot=True), expname = 'Spec')\n",
    "# exp.add_qubit_sweep(\"q1 measure frequency\", np.linspace(fstart, fstop, nsteps))\n",
    "# exp.add_qubit_sweep(\"q1 measure amplitude\", np.linspace(0.1,0.8,8)) \n",
    "# run sweep\n",
    "#exp.run_sweeps()"
   ]
  },
  {
   "cell_type": "markdown",
   "metadata": {},
   "source": [
    "After the power appropriate power and frequency have been determined, add a non-zero 'autodyne_freq' to the APS2 measure parameters. This will move the LO leakage off resonance from the cavity. A new sweep should be performed to ensure that the cavity is in the correct place (should move by added autodyne frequency)."
   ]
  },
  {
   "cell_type": "markdown",
   "metadata": {},
   "source": [
    "### Qubit Spec"
   ]
  },
  {
   "cell_type": "markdown",
   "metadata": {},
   "source": [
    "After finding the low-power cavity frequency, spectroscopy for the qubit is performed.Typically one starts with a wide sweep with high power and long interrogation time. After features appears, one can perform narrower sweeps at lower power. The experiment is the same in all cases, however the user should adjust measure length and amplitude within the qubit measure parameters (measure.yml). The device being swept is the rf generator associated with the control or measure channel."
   ]
  },
  {
   "cell_type": "code",
   "execution_count": null,
   "metadata": {},
   "outputs": [],
   "source": [
    "# Other examples: \n",
    "exp = QubitExpFactory.create(PulsedSpec(q1,specOn=True, showPlot=True), expname = 'Spec')\n",
    "exp.add_qubit_sweep(\"q1 control frequency\", np.linspace(5e9, 5.2e9, 201)) #sweep qubit drive frequency, \n",
    "\n",
    "# run sweep\n",
    "exp.run_sweeps()"
   ]
  },
  {
   "cell_type": "markdown",
   "metadata": {},
   "source": [
    "### Rabi\n",
    "Once you find the resonance in spectroscopy, a good starting point is to measure Rabi oscillations vs frequency to have a sense of driving amplitude and a slightly more accurate qubit frequency. "
   ]
  },
  {
   "cell_type": "code",
   "execution_count": null,
   "metadata": {},
   "outputs": [],
   "source": [
    "fstart = 5e9\n",
    "fstop = 5.1e9\n",
    "nsteps = 51\n",
    "exp = QubitExpFactory.create(RabiWidth(q,1e-9*np.arange(20, 2000, 40), showPlot=False), expname = 'Rabi_width.h5')\n",
    "# Alternatively, sweep amplitude:\n",
    "#exp = QubitExpFactory.create(RabiAmp(q,np.linspace(-1,1,101), showPlot=False), expname = 'Rabi_amp.h5')\n",
    "#exp.add_qubit_sweep(\"q1 measure frequency\", np.linspace(fstart, fstop, nsteps))\n",
    "exp.run_sweeps()\n",
    "\n",
    "# Note that if no sweep is added, one can create and run the experiment in one line:\n",
    "# exp = QubitExpFactory.run(RabiWidth(q,1e-9*np.arange(20, 2000, 40)), expname = 'Rabi_width.h5')"
   ]
  },
  {
   "cell_type": "markdown",
   "metadata": {
    "collapsed": true
   },
   "source": [
    "### Mixer calibration\n",
    "\n",
    "Calibrate mixer routine. Switches may be present to direct the signal to the SA. In that case, switches are defined within the marker section in `meas.yaml`:\n",
    "\n",
    "```\n",
    "markers:\n",
    "  digitizerTrig: APSII4 12m1\n",
    "  digitizer2Trig: APSII4 12m4\n",
    "  switch_M1: APSII1 12m3\n",
    "  switch_q1: APSII3 12m1\n",
    "```"
   ]
  },
  {
   "cell_type": "code",
   "execution_count": null,
   "metadata": {},
   "outputs": [],
   "source": [
    "switch_target = 'q1'\n",
    "switch_type = 'c' # m or c for control or measurement\n",
    "toggle_switch = True # toggle switch to SA before and after mixer calibration\n",
    "\n",
    "if switch_type == \"m\":\n",
    "    switch_type = \"measure\"\n",
    "    switch_name = switch_target.replace(\"q\",\"M\")\n",
    "elif switch_type == \"c\":\n",
    "    switch_type = \"control\"\n",
    "    switch_name = switch_target\n",
    "\n",
    "if toggle_switch:\n",
    "    pulse_marker('switch_'+switch_name)\n",
    "\n",
    "exp = QubitExpFactory.calibrate_mixer(switch_target,mixer=switch_type,write_to_file=True, nsteps=21, offset_range = (-0.2,0.2))\n",
    "\n",
    "if toggle_switch:\n",
    "    pulse_marker('switch_'+switch_name)"
   ]
  },
  {
   "cell_type": "code",
   "execution_count": null,
   "metadata": {},
   "outputs": [],
   "source": [
    "# You can get the docstrings of any of the above functions using:\n",
    "? QubitExpFactory.calibrate_mixer"
   ]
  },
  {
   "cell_type": "markdown",
   "metadata": {},
   "source": [
    "### Readout kernel calibration (optional)\n",
    "\n",
    "If using an integrated stream (as opposed to demodulated) on the X6, this step is recommended early in the process. Go back to this step for a better calibration once the pulses are tuned "
   ]
  },
  {
   "cell_type": "code",
   "execution_count": null,
   "metadata": {},
   "outputs": [],
   "source": [
    "# This experiment requires a SingleShotMeasurement filter for q\n",
    "exp = SingleShotFidelityExperiment(q.label, num_shots=40000, optimize=True)\n",
    "\n",
    "# You can add sweeps to optimize over any instrument parameter (if the optimize flag above is True)\n",
    "# example: \n",
    "# exp.add_qubit_sweep(\"q1 measure amplitude\", np.linspace(0.2,0.4,8))\n",
    "\n",
    "exp.run_sweeps()"
   ]
  },
  {
   "cell_type": "markdown",
   "metadata": {},
   "source": [
    "Once the Filter Kernel has been calculated, switch over it in filters.yml. Change 'simple_kernel' in q1-integrator to 'false.' Then add kernel : [path to filter kernel] to the same instruments. There is a commented example"
   ]
  },
  {
   "cell_type": "markdown",
   "metadata": {},
   "source": [
    "### Frequency calibration (Ramsey)\n",
    "\n",
    "Once pulses and qubit frequencies are *roughly* calibrated, one should fine tune them. First, get the qubit frequency correctly. Use shorter delays for larger detunings, longer delays for fine tuning."
   ]
  },
  {
   "cell_type": "code",
   "execution_count": null,
   "metadata": {},
   "outputs": [],
   "source": [
    "RamseyStart = 0; RamseyStop= 10e-6;RamseyPoints = 101; #sweep for total Ramsey delay\n",
    "exp = QubitExpFactory.run(Ramsey(q,np.linspace(RamseyStart,RamseyStop,RamseyPoints), TPPIFreq = 0.0e6), expname = 'Ramsey_{}.h5'.format(q.label))"
   ]
  },
  {
   "cell_type": "markdown",
   "metadata": {},
   "source": [
    "If the qubit frequency is close enough (~<1 MHz detuning), use the calibration routine.\n",
    "\n",
    "`set_source = True` to calibrate the generator frequency\n",
    "\n",
    "`set_source = False` to calibrate the qubit pulse modulation instead. "
   ]
  },
  {
   "cell_type": "code",
   "execution_count": null,
   "metadata": {},
   "outputs": [],
   "source": [
    "cal.calibrate([cal.RamseyCalibration(q.label, set_source = False, delays = np.linspace(0,50,51)*1e-6, added_detuning=0e3, two_freqs = False, AIC=False, quad=\"real\")])"
   ]
  },
  {
   "cell_type": "markdown",
   "metadata": {},
   "source": [
    "### Pulse calibration"
   ]
  },
  {
   "cell_type": "code",
   "execution_count": null,
   "metadata": {},
   "outputs": [],
   "source": [
    "cal.calibrate([cal.Pi2Calibration(q.label)])\n",
    "cal.calibrate([cal.PiCalibration(q.label)]) # not necessary if using PulsePrimitiveLibrary: all90"
   ]
  },
  {
   "cell_type": "markdown",
   "metadata": {},
   "source": [
    "### Coherence measurements"
   ]
  },
  {
   "cell_type": "code",
   "execution_count": null,
   "metadata": {},
   "outputs": [],
   "source": [
    "T1Start = 0e-6; T1Step = 2000e-9; T1Stop = 200e-6;\n",
    "\n",
    "RamseyStart = 0; RamseyStop= 50e-6;RamseyPoints = 101; #sweep for total Ramsey delay\n",
    "\n",
    "EchoStart = 10e-6; EchoStop = 100e-6; EchoPoints = 101; #sweep for total Echo delay\n",
    "\n",
    "#T1\n",
    "#exp = QubitExpFactory.run(InversionRecovery(q,np.arange(T1Start,T1Stop,T1Step)), expname = 'T1-{}.h5'.format(q.label))\n",
    "\n",
    "#T2*\n",
    "#exp = QubitExpFactory.run(Ramsey(q,np.linspace(RamseyStart,RamseyStop,RamseyPoints), TPPIFreq = 0.0e6), expname = 'Ramsey_{}.h5'.format(q.label))\n",
    "\n",
    "#T2 (periods indicate the number of artificial full oscillations baked into the 2nd pi/2 phase)\n",
    "#exp = QubitExpFactory.run(HahnEcho(q, np.linspace(EchoStart/2, EchoStop/2, EchoPoints), showPlot = False, periods = 3, calRepeats = 2) , expname = \"Echo.h5\")"
   ]
  },
  {
   "cell_type": "markdown",
   "metadata": {},
   "source": [
    "Loading and analyzing data can be done in Qlab.jl (https://github.com/BBN-Q/Qlab.jl) or using the fit functions available in Auspex\\analysis\\fits.py"
   ]
  },
  {
   "cell_type": "markdown",
   "metadata": {
    "collapsed": true
   },
   "source": [
    "### Randomized Benchmarking"
   ]
  },
  {
   "cell_type": "code",
   "execution_count": null,
   "metadata": {},
   "outputs": [],
   "source": [
    "lengths=[2**n for n in range(1,8)]\n",
    "seqs = create_RB_seqs(1, lengths)\n",
    "exp = QubitExpFactory.create(SingleQubitRB(q1, seqs), expname='Q1RB')\n",
    "exp.run_sweeps()"
   ]
  },
  {
   "cell_type": "code",
   "execution_count": null,
   "metadata": {},
   "outputs": [],
   "source": [
    "#data = load_from_HDF5('/home/qlab/data/EXP/180918/Q1RB-0004.h5')[0] # get correct data path"
   ]
  },
  {
   "cell_type": "code",
   "execution_count": null,
   "metadata": {},
   "outputs": [],
   "source": [
    "cdata, xpts = cal_data(data, quad=np.real);"
   ]
  },
  {
   "cell_type": "code",
   "execution_count": null,
   "metadata": {},
   "outputs": [],
   "source": [
    "fit_single_qubit_rb(cdata, lengths, showPlot=True)"
   ]
  }
 ],
 "metadata": {
  "kernelspec": {
   "display_name": "Python 3",
   "language": "python",
   "name": "python3"
  },
  "language_info": {
   "codemirror_mode": {
    "name": "ipython",
    "version": 3
   },
   "file_extension": ".py",
   "mimetype": "text/x-python",
   "name": "python",
   "nbconvert_exporter": "python",
   "pygments_lexer": "ipython3",
   "version": "3.6.3"
  }
 },
 "nbformat": 4,
 "nbformat_minor": 2
}
